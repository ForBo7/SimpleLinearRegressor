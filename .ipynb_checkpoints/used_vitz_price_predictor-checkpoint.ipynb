{
 "cells": [
  {
   "cell_type": "markdown",
   "metadata": {
    "pycharm": {
     "name": "#%% md\n"
    }
   },
   "source": [
    "This is my own first machine learning project where I will be implementing a simple linear regressor. This regressor will predict the prices of used Toyota Vitzs (more commonly known as the Toyota Yaris globally) in Pakistan, with 5 data points in the training set.\n",
    "\n",
    "<img src=\"images/2003_Toyota_Vitz.JPG\" alt=\"2003 Toyota Vitz\" width=\"50%\" align=\"left\"/>"
   ]
  },
  {
   "cell_type": "markdown",
   "metadata": {},
   "source": [
    "I will not be using a textfile so I will simulate reading a file for the data."
   ]
  },
  {
   "cell_type": "code",
   "execution_count": 49,
   "metadata": {
    "pycharm": {
     "name": "#%%\n"
    }
   },
   "outputs": [],
   "source": [
    "from io import StringIO"
   ]
  },
  {
   "cell_type": "markdown",
   "metadata": {
    "pycharm": {
     "name": "#%% md\n"
    }
   },
   "source": [
    "I will be considering two features: the model year and kilometers driven."
   ]
  },
  {
   "cell_type": "code",
   "execution_count": 50,
   "metadata": {
    "pycharm": {
     "name": "#%%\n"
    }
   },
   "outputs": [],
   "source": [
    "data = \"\"\"\n",
    "model_year, kms_driven, price,\n",
    "2014, 39_000, 1_430_000,\n",
    "2003, 69_000, 1_150_000,\n",
    "2006, 200_000, 730_000,\n",
    "2010, 40_000, 1_250_000,\n",
    "2000, 250_000, 765_000,\n",
    "\"\"\""
   ]
  },
  {
   "cell_type": "markdown",
   "metadata": {},
   "source": [
    "Let us read in the data."
   ]
  },
  {
   "cell_type": "code",
   "execution_count": 51,
   "metadata": {
    "pycharm": {
     "name": "#%%\n"
    }
   },
   "outputs": [],
   "source": [
    "# Read in data.\n",
    "file = StringIO(data)\n",
    "data_samples = []\n",
    "\n",
    "for sample in file:\n",
    "    listed_sample = sample.split(\",\")\n",
    "    # Remove new line.\n",
    "    del listed_sample[-1]\n",
    "    data_samples.append(listed_sample)\n",
    "\n",
    "# Remove headers.\n",
    "del data_samples[0]\n",
    "del data_samples[0]"
   ]
  },
  {
   "cell_type": "markdown",
   "metadata": {},
   "source": [
    "Generally, the task in a linear regression problem is to predict the best possible set of coefficients that will multiply the inputs so that the model is able to make good predictions for any data sample.\n",
    "\n",
    "There are various optimization techniques available to achieve this. In this regressor, I will use the least mean squares method — a method that goes back two centuries!\n",
    "\n",
    "The least mean squares method works by, erm, finding the least mean square. That aside, you essentially run the regressor multiple times, each time with a different coefficient set. Then with each set of predicted values you obtain, you find the difference between it and the actual values. You then square all the differences and take their sum. You choose the set of coefficients that produces the least possible sum (the sum can not be less than zero because we squared).\n",
    "\n",
    "With this in mind, we need to create a list of actual prices."
   ]
  },
  {
   "cell_type": "code",
   "execution_count": 52,
   "metadata": {
    "pycharm": {
     "name": "#%%\n"
    }
   },
   "outputs": [],
   "source": [
    "# Create a list of actual prices.\n",
    "actual_prices = []\n",
    "for data_sample in data_samples:\n",
    "    actual_prices.append(int(data_sample[-1]))"
   ]
  },
  {
   "cell_type": "markdown",
   "metadata": {},
   "source": [
    "We also need a few arbitrary sets of coefficients."
   ]
  },
  {
   "cell_type": "code",
   "execution_count": 53,
   "metadata": {
    "pycharm": {
     "name": "#%%\n"
    }
   },
   "outputs": [],
   "source": [
    "from random import randint\n",
    "\n",
    "# Arbitrary sets of coefficients.\n",
    "coefficient_sets = [\n",
    "    [randint(10, 20), randint(5, 20)],\n",
    "    [randint(10, 20), randint(5, 20)],\n",
    "    [randint(10, 20), randint(5, 20)],\n",
    "]"
   ]
  },
  {
   "cell_type": "markdown",
   "metadata": {},
   "source": [
    "Now all that's left is to implement the least mean squares algorithm."
   ]
  },
  {
   "cell_type": "code",
   "execution_count": 54,
   "metadata": {
    "pycharm": {
     "name": "#%%\n"
    }
   },
   "outputs": [],
   "source": [
    "# Calculate mean squares.\n",
    "mean_squares = []\n",
    "for coefficient_set in coefficient_sets:\n",
    "    predicted_prices = []\n",
    "    # Calculate predicted prices.\n",
    "    for data_sample in data_samples:\n",
    "        predicted_prices.append((coefficient_set[0] * int(data_sample[0])) +\n",
    "                                (coefficient_set[1] * int(data_sample[1])))\n",
    "    # Find difference between predicted prices and actual prices.\n",
    "    zip_object = zip(predicted_prices, actual_prices)\n",
    "    differences = [predicted_price - actual_price\n",
    "                   for predicted_price, actual_price in zip_object]\n",
    "    differences_squared = [difference ** 2 for difference in differences]\n",
    "    mean_squares.append(sum(differences_squared))\n",
    "\n",
    "# Find the least mean square and its corresponding set of coefficients.\n",
    "least_mean_square = min(mean_squares)\n",
    "best_coefficient_set = coefficient_sets[\n",
    "    mean_squares.index(least_mean_square)]"
   ]
  },
  {
   "cell_type": "markdown",
   "metadata": {
    "pycharm": {
     "name": "#%% md\n"
    }
   },
   "source": [
    "So the best coefficient set obtained in this session is"
   ]
  },
  {
   "cell_type": "code",
   "execution_count": 55,
   "metadata": {
    "pycharm": {
     "name": "#%%\n"
    }
   },
   "outputs": [
    {
     "name": "stdout",
     "output_type": "stream",
     "text": [
      "[11, 6]\n"
     ]
    }
   ],
   "source": [
    "print(best_coefficient_set)"
   ]
  },
  {
   "cell_type": "markdown",
   "metadata": {},
   "source": [
    "giving a mean square of"
   ]
  },
  {
   "cell_type": "code",
   "execution_count": 56,
   "metadata": {
    "pycharm": {
     "name": "#%%\n"
    }
   },
   "outputs": [
    {
     "name": "stdout",
     "output_type": "stream",
     "text": [
      "3678767909261\n"
     ]
    }
   ],
   "source": [
    "print(least_mean_square)"
   ]
  },
  {
   "cell_type": "markdown",
   "metadata": {},
   "source": [
    "The predicted prices from this coefficient set are"
   ]
  },
  {
   "cell_type": "code",
   "execution_count": 57,
   "metadata": {
    "pycharm": {
     "name": "#%%\n"
    }
   },
   "outputs": [
    {
     "name": "stdout",
     "output_type": "stream",
     "text": [
      "Stay tuned for the predicted prices after I refactor my code!\n"
     ]
    }
   ],
   "source": [
    "print(\"Stay tuned for the predicted prices after I refactor my code!\")\n",
    "# Just dot product coefficients with features?"
   ]
  },
  {
   "cell_type": "markdown",
   "metadata": {},
   "source": [
    "The actual prices are"
   ]
  },
  {
   "cell_type": "code",
   "execution_count": 58,
   "metadata": {
    "pycharm": {
     "name": "#%%\n"
    }
   },
   "outputs": [
    {
     "name": "stdout",
     "output_type": "stream",
     "text": [
      "[1430000, 1150000, 730000, 1250000, 765000]\n"
     ]
    }
   ],
   "source": [
    "print(actual_prices)"
   ]
  },
  {
   "cell_type": "markdown",
   "metadata": {},
   "source": [
    "We can see that we are pretty far off. In fact, \"pretty\" would be a pretty big understatement. We would have to go through dozens of various combinations of coefficients to find the right set, and from this, it can be seen why things can get computationally more expensive and harder with more inputs. Of course, in this scenario, we can visualize the data, use more data points, and study them to gain a good idea where to start."
   ]
  },
  {
   "cell_type": "code",
   "execution_count": 59,
   "metadata": {
    "pycharm": {
     "name": "#%%\n"
    }
   },
   "outputs": [
    {
     "name": "stdout",
     "output_type": "stream",
     "text": [
      "It is seen that there is a positive dependence between model year and price and a negative dependence between kilometers driven and price.\n"
     ]
    },
    {
     "data": {
      "image/png": "[encoded data removed]",
      "text/plain": [
       "<Figure size 432x288 with 2 Axes>"
      ]
     },
     "metadata": {
      "needs_background": "light"
     },
     "output_type": "display_data"
    }
   ],
   "source": [
    "import matplotlib.pyplot as plt\n",
    "from matplotlib.ticker import FormatStrFormatter\n",
    "\n",
    "years = [sample[0] for sample in data_samples]\n",
    "kilometers_driven = [sample[1] for sample in data_samples]\n",
    "fig, axes = plt.subplots(2)\n",
    "fig.tight_layout(pad=3.0)\n",
    "\n",
    "# TODO: Comment what's happening.\n",
    "\n",
    "axes[0].bar(years, actual_prices)\n",
    "axes[1].bar(kilometers_driven, actual_prices)\n",
    "\n",
    "axes[0].set_xlabel(\"Year model\")\n",
    "axes[1].set_xlabel(\"Kilometers driven\")\n",
    "\n",
    "axes[0].set_ylabel(\"Price in PKR\")\n",
    "axes[1].set_ylabel(\"Price in PKR\")\n",
    "\n",
    "axes[0].yaxis.set_major_formatter(FormatStrFormatter('%.0f'))\n",
    "axes[1].yaxis.set_major_formatter(FormatStrFormatter('%.0f'))\n",
    "# This would be so much easier to plot with Pandas -_-\n",
    "\n",
    "print(\"It is seen that there is a positive dependence between model year and price and a negative dependence between kilometers driven and price.\")"
   ]
  },
  {
   "cell_type": "markdown",
   "metadata": {},
   "source": [
    "We need to optimize the process of choosing coefficients and this can be achieved with the likes of hill climbing or the simulated annealing variant, but I shall not delve into this here.\n",
    "\n",
    "Rather, I shall use some magic."
   ]
  },
  {
   "cell_type": "code",
   "execution_count": 60,
   "metadata": {
    "pycharm": {
     "name": "#%%\n"
    }
   },
   "outputs": [],
   "source": [
    "import numpy as np\n",
    "\n",
    "array_data_samples = np.array([\n",
    "    [2014, 39_000, 1_430_000],\n",
    "    [2003, 69_000, 1_150_000],\n",
    "    [2006, 200_000, 730_000],\n",
    "    [2010, 40_000, 1_250_000],\n",
    "    [2000, 250_000, 765_000],\n",
    "])\n",
    "\n",
    "x = np.delete(array_data_samples, 2, 1)\n",
    "y = np.delete(array_data_samples, np.s_[:2], 1)\n",
    "c = np.linalg.lstsq(x, y, rcond=None)[0]"
   ]
  },
  {
   "cell_type": "markdown",
   "metadata": {},
   "source": [
    "And just like that, we have found our coefficients! Let us see what best set of coefficients NumPy has found."
   ]
  },
  {
   "cell_type": "code",
   "execution_count": 61,
   "metadata": {
    "pycharm": {
     "name": "#%%\n"
    }
   },
   "outputs": [
    {
     "name": "stdout",
     "output_type": "stream",
     "text": [
      "[[704.70600309]\n",
      " [ -2.91819819]]\n"
     ]
    }
   ],
   "source": [
    "print(c)"
   ]
  },
  {
   "cell_type": "markdown",
   "metadata": {},
   "source": [
    "Linear regression involves multiplying inputs with coefficients. This process is known as linear combination; and this in itself is essentially performing a dot product. Using a dot product is a much more efficient way of calculating the linear combination.\n",
    "\n",
    "Let's find the linear combination with our new found coefficients and are data samples and see how occurate our model is."
   ]
  },
  {
   "cell_type": "code",
   "execution_count": 62,
   "metadata": {
    "pycharm": {
     "name": "#%%\n"
    }
   },
   "outputs": [
    {
     "name": "stdout",
     "output_type": "stream",
     "text": [
      "Predicted prices (to the nearest integer): \n",
      "[[1305468.]\n",
      " [1210170.]\n",
      " [ 830001.]\n",
      " [1299731.]\n",
      " [ 679862.]]\n",
      "Actual prices: \n",
      "[[1430000]\n",
      " [1150000]\n",
      " [ 730000]\n",
      " [1250000]\n",
      " [ 765000]]\n"
     ]
    }
   ],
   "source": [
    "print(f\"Predicted prices (to the nearest integer): \\n{np.around(x @ c)}\")\n",
    "print(f\"Actual prices: \\n{y}\")"
   ]
  },
  {
   "cell_type": "markdown",
   "metadata": {},
   "source": [
    "Not too shabby! Much, much better than our previous rando attempt at finding the best set of coefficients. However, it should be kept in mind that we do not want a set of coefficients that exactly fits the model as this would lead to the model generalizing badly to nontraining data; that is, it would make worse predictions.\n",
    "\n",
    "Let's test our model on some unseen data!\n",
    "\n",
    "<!-- Test my own Vitz -->"
   ]
  },
  {
   "cell_type": "code",
   "execution_count": 63,
   "metadata": {
    "pycharm": {
     "name": "#%%\n"
    }
   },
   "outputs": [],
   "source": [
    "x_test = np.array([\n",
    "    [2012, 160_000],\n",
    "    [2012, 72_000],\n",
    "    [2005, 74_000],\n",
    "    [2007, 1],\n",
    "    [2008, 125000],\n",
    "])\n",
    "y_test = np.array([\n",
    "    [980_000],\n",
    "    [1_275_000],\n",
    "    [910_000],\n",
    "    [930_000],\n",
    "    [950_000],\n",
    "])"
   ]
  },
  {
   "cell_type": "markdown",
   "metadata": {},
   "source": [
    "Time to see the results!"
   ]
  },
  {
   "cell_type": "code",
   "execution_count": 64,
   "metadata": {
    "pycharm": {
     "name": "#%%\n"
    }
   },
   "outputs": [
    {
     "name": "stdout",
     "output_type": "stream",
     "text": [
      "Predicted prices (to the nearest integer): \n",
      "[[ 950957.]\n",
      " [1207758.]\n",
      " [1196989.]\n",
      " [1414342.]\n",
      " [1050275.]]\n",
      "Actual prices: \n",
      "[[ 980000]\n",
      " [1275000]\n",
      " [ 910000]\n",
      " [ 930000]\n",
      " [ 950000]]\n"
     ]
    }
   ],
   "source": [
    "print(f\"Predicted prices (to the nearest integer): \\n{np.around(x_test @ c)}\")\n",
    "print(f\"Actual prices: \\n{y_test}\")"
   ]
  },
  {
   "cell_type": "markdown",
   "metadata": {},
   "source": [
    "Decent performance, but could be much better. The Vitz with a single kilometer driven should definitely threw the results off but shouldn't be considered as it is an outlier and a car that has driven a single kilometer isn't really used.\n",
    "\n",
    "But there are definitely more ways to improve our model:\n",
    "- More data points\n",
    "- More features\n",
    "- Deciding which features are relevant\n",
    "- Cross validation\n",
    "\n",
    "But as my first attempt at a regressor, not bad, not bad! ML is deceptively simple."
   ]
  }
 ],
 "metadata": {
  "kernelspec": {
   "display_name": "Python 3 (ipykernel)",
   "language": "python",
   "name": "python3"
  },
  "language_info": {
   "codemirror_mode": {
    "name": "ipython",
    "version": 3
   },
   "file_extension": ".py",
   "mimetype": "text/x-python",
   "name": "python",
   "nbconvert_exporter": "python",
   "pygments_lexer": "ipython3",
   "version": "3.10.2"
  }
 },
 "nbformat": 4,
 "nbformat_minor": 1
}
